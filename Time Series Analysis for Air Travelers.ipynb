{
 "cells": [
  {
   "cell_type": "code",
   "execution_count": 1,
   "metadata": {},
   "outputs": [
    {
     "data": {
      "text/plain": [
       "'__main__'"
      ]
     },
     "execution_count": 1,
     "metadata": {},
     "output_type": "execute_result"
    }
   ],
   "source": [
    "__name__"
   ]
  },
  {
   "cell_type": "code",
   "execution_count": 2,
   "metadata": {},
   "outputs": [],
   "source": [
    "import pandas as pd\n",
    "import numpy as np\n",
    "import matplotlib.pylab as plt\n",
    "%matplotlib inline\n",
    "import bottleneck\n",
    "import statsmodels.api as sm\n",
    "import openpyxl\n",
    "import xlrd"
   ]
  },
  {
   "cell_type": "code",
   "execution_count": 3,
   "metadata": {},
   "outputs": [
    {
     "data": {
      "text/plain": [
       "'1.1.3'"
      ]
     },
     "execution_count": 3,
     "metadata": {},
     "output_type": "execute_result"
    }
   ],
   "source": [
    "pd.__version__"
   ]
  },
  {
   "cell_type": "code",
   "execution_count": 4,
   "metadata": {},
   "outputs": [
    {
     "data": {
      "text/plain": [
       "'1.19.2'"
      ]
     },
     "execution_count": 4,
     "metadata": {},
     "output_type": "execute_result"
    }
   ],
   "source": [
    "np.__version__"
   ]
  },
  {
   "cell_type": "code",
   "execution_count": 7,
   "metadata": {},
   "outputs": [],
   "source": [
    "patience_location = \"/Users/Perry/Google Drive File Stream/My Drive/Commerce/Fall 20/BUSA 521/Patience/Analysis of Cleared out data from march to august , work in progress.xlsx\""
   ]
  },
  {
   "cell_type": "code",
   "execution_count": 8,
   "metadata": {
    "scrolled": false
   },
   "outputs": [
    {
     "data": {
      "text/html": [
       "<div>\n",
       "<style scoped>\n",
       "    .dataframe tbody tr th:only-of-type {\n",
       "        vertical-align: middle;\n",
       "    }\n",
       "\n",
       "    .dataframe tbody tr th {\n",
       "        vertical-align: top;\n",
       "    }\n",
       "\n",
       "    .dataframe thead th {\n",
       "        text-align: right;\n",
       "    }\n",
       "</style>\n",
       "<table border=\"1\" class=\"dataframe\">\n",
       "  <thead>\n",
       "    <tr style=\"text-align: right;\">\n",
       "      <th></th>\n",
       "      <th>We are trying to forecast the impact of covid on the numebr of air travllers .</th>\n",
       "      <th>Unnamed: 1</th>\n",
       "      <th>Unnamed: 2</th>\n",
       "      <th>Unnamed: 3</th>\n",
       "      <th>Unnamed: 4</th>\n",
       "      <th>Unnamed: 5</th>\n",
       "      <th>Unnamed: 6</th>\n",
       "    </tr>\n",
       "  </thead>\n",
       "  <tbody>\n",
       "    <tr>\n",
       "      <th>0</th>\n",
       "      <td>NaN</td>\n",
       "      <td>Dependent Variable</td>\n",
       "      <td>Independent Variable</td>\n",
       "      <td>NaN</td>\n",
       "      <td>NaN</td>\n",
       "      <td>NaN</td>\n",
       "      <td>NaN</td>\n",
       "    </tr>\n",
       "    <tr>\n",
       "      <th>1</th>\n",
       "      <td>No</td>\n",
       "      <td>Number of travellers  2020</td>\n",
       "      <td>Total Traveler Throughput</td>\n",
       "      <td>Jet fuel price</td>\n",
       "      <td>Unemployment</td>\n",
       "      <td>Covid Cases</td>\n",
       "      <td>Sample Period</td>\n",
       "    </tr>\n",
       "    <tr>\n",
       "      <th>2</th>\n",
       "      <td>1</td>\n",
       "      <td>2280522</td>\n",
       "      <td>2301439</td>\n",
       "      <td>0</td>\n",
       "      <td>715827</td>\n",
       "      <td>75</td>\n",
       "      <td>2020-03-01 00:00:00</td>\n",
       "    </tr>\n",
       "    <tr>\n",
       "      <th>3</th>\n",
       "      <td>2</td>\n",
       "      <td>2089641</td>\n",
       "      <td>2257920</td>\n",
       "      <td>1.438</td>\n",
       "      <td>715827</td>\n",
       "      <td>100</td>\n",
       "      <td>2020-03-02 00:00:00</td>\n",
       "    </tr>\n",
       "    <tr>\n",
       "      <th>4</th>\n",
       "      <td>3</td>\n",
       "      <td>1736393</td>\n",
       "      <td>1979558</td>\n",
       "      <td>1.43</td>\n",
       "      <td>715827</td>\n",
       "      <td>124</td>\n",
       "      <td>2020-03-03 00:00:00</td>\n",
       "    </tr>\n",
       "  </tbody>\n",
       "</table>\n",
       "</div>"
      ],
      "text/plain": [
       "  We are trying to forecast the impact of covid on the numebr of air travllers .  \\\n",
       "0                                                NaN                               \n",
       "1                                                No                                \n",
       "2                                                  1                               \n",
       "3                                                  2                               \n",
       "4                                                  3                               \n",
       "\n",
       "                   Unnamed: 1                 Unnamed: 2       Unnamed: 3  \\\n",
       "0          Dependent Variable       Independent Variable              NaN   \n",
       "1  Number of travellers  2020  Total Traveler Throughput  Jet fuel price    \n",
       "2                     2280522                    2301439                0   \n",
       "3                     2089641                    2257920            1.438   \n",
       "4                     1736393                    1979558             1.43   \n",
       "\n",
       "     Unnamed: 4   Unnamed: 5           Unnamed: 6  \n",
       "0           NaN          NaN                  NaN  \n",
       "1  Unemployment  Covid Cases      Sample Period    \n",
       "2        715827           75  2020-03-01 00:00:00  \n",
       "3        715827          100  2020-03-02 00:00:00  \n",
       "4        715827          124  2020-03-03 00:00:00  "
      ]
     },
     "execution_count": 8,
     "metadata": {},
     "output_type": "execute_result"
    }
   ],
   "source": [
    "patience = pd.read_excel(io=patience_location)\n",
    "patience.head()"
   ]
  },
  {
   "cell_type": "code",
   "execution_count": null,
   "metadata": {},
   "outputs": [],
   "source": [
    "patience.drop(labels=0, axis=\"rows\", inplace=True)\n",
    "patience.head()"
   ]
  },
  {
   "cell_type": "code",
   "execution_count": null,
   "metadata": {},
   "outputs": [],
   "source": [
    "patience.drop(labels=[\"We are trying to forecast the impact of covid on the numebr of air travllers .\"], axis=1, inplace=True)\n",
    "patience.head()"
   ]
  },
  {
   "cell_type": "code",
   "execution_count": null,
   "metadata": {},
   "outputs": [],
   "source": [
    "patience.columns = patience.loc[1, :].values"
   ]
  },
  {
   "cell_type": "code",
   "execution_count": null,
   "metadata": {},
   "outputs": [],
   "source": [
    "patience.drop(labels=1, axis=0, inplace=True)\n",
    "patience.head()"
   ]
  },
  {
   "cell_type": "code",
   "execution_count": null,
   "metadata": {},
   "outputs": [],
   "source": [
    "patience.reset_index(drop=True, inplace=True)\n",
    "patience.head()"
   ]
  },
  {
   "cell_type": "code",
   "execution_count": null,
   "metadata": {
    "scrolled": true
   },
   "outputs": [],
   "source": [
    "patience.info()"
   ]
  },
  {
   "cell_type": "code",
   "execution_count": null,
   "metadata": {},
   "outputs": [],
   "source": [
    "len(patience) - patience.count()"
   ]
  },
  {
   "cell_type": "code",
   "execution_count": null,
   "metadata": {},
   "outputs": [],
   "source": [
    "patience[\"Number of travellers  2020\"] = patience[\"Number of travellers  2020\"].astype(dtype=\"int\")\n",
    "patience[\"Total Traveler Throughput\"] = patience[\"Total Traveler Throughput\"].astype(dtype=\"int\")\n",
    "patience[\"Jet fuel price \"] = patience[\"Jet fuel price \"].astype(dtype=\"float\")\n",
    "patience[\"Unemployment\"] = patience[\"Unemployment\"].astype(dtype=\"int\")\n",
    "patience[\"Covid Cases\"] = patience[\"Covid Cases\"].astype(dtype=\"int\")\n",
    "patience[\"Sample Period  \"] = pd.to_datetime(patience[\"Sample Period  \"])\n",
    "patience.head()"
   ]
  },
  {
   "cell_type": "code",
   "execution_count": null,
   "metadata": {},
   "outputs": [],
   "source": [
    "patience.info()"
   ]
  },
  {
   "cell_type": "code",
   "execution_count": null,
   "metadata": {},
   "outputs": [],
   "source": [
    "Y_Var = patience[\"Number of travellers  2020\"]\n",
    "X_Var = patience.drop(labels=[\"Number of travellers  2020\", \"Sample Period  \"], axis=1)"
   ]
  },
  {
   "cell_type": "code",
   "execution_count": null,
   "metadata": {},
   "outputs": [],
   "source": [
    "X_Var = sm.add_constant(data=X_Var)"
   ]
  },
  {
   "cell_type": "code",
   "execution_count": null,
   "metadata": {},
   "outputs": [],
   "source": [
    "patience_model_1 = sm.OLS(Y_Var, X_Var).fit()"
   ]
  },
  {
   "cell_type": "markdown",
   "metadata": {},
   "source": [
    "# The Model:\n",
    "# DV : Number of travellers  2020\n",
    "# IV1 : Total Traveler Throughput\n",
    "# IV2 : Jet fuel price \n",
    "# IV3 : Unemployment\n",
    "# IV4 : Covid Cases"
   ]
  },
  {
   "cell_type": "code",
   "execution_count": null,
   "metadata": {},
   "outputs": [],
   "source": [
    "patience_model_1.summary()"
   ]
  },
  {
   "cell_type": "markdown",
   "metadata": {},
   "source": [
    "# Time Series:\n",
    "# Analyze how Covid-19 affected the Airline Industry from 03/20 to 08/20\n",
    "# Y : Number Of Airline Travellers in 2020\n",
    "# X : Sample Period"
   ]
  },
  {
   "cell_type": "code",
   "execution_count": null,
   "metadata": {},
   "outputs": [],
   "source": [
    "patience_time_series = patience.loc[:, [\"Number of travellers  2020\", \"Sample Period  \"]]\n",
    "patience_time_series.reset_index(drop=True, inplace=True)"
   ]
  },
  {
   "cell_type": "code",
   "execution_count": null,
   "metadata": {},
   "outputs": [],
   "source": [
    "patience_time_series.set_index(keys=[\"Sample Period  \"], inplace=True)\n",
    "patience_time_series.head()"
   ]
  },
  {
   "cell_type": "code",
   "execution_count": null,
   "metadata": {},
   "outputs": [],
   "source": [
    "patience_time_series.info()"
   ]
  },
  {
   "cell_type": "code",
   "execution_count": null,
   "metadata": {},
   "outputs": [],
   "source": [
    "# plot graph\n",
    "\n",
    "plt.xlabel(\"Date\")\n",
    "plt.ylabel(\"Number of travellers in 2020\")\n",
    "plt.plot(patience_time_series)"
   ]
  },
  {
   "cell_type": "code",
   "execution_count": null,
   "metadata": {},
   "outputs": [],
   "source": [
    "patience_time_series.loc[:, \"Number of travellers  2020\"].plot(figsize=(15, 8))"
   ]
  },
  {
   "cell_type": "code",
   "execution_count": null,
   "metadata": {},
   "outputs": [],
   "source": [
    "patience_time_series.plot()\n",
    "patience_time_series.rolling(window=10).mean().plot()"
   ]
  },
  {
   "cell_type": "markdown",
   "metadata": {},
   "source": [
    "# Time Series Analysis with Moving Average of 5"
   ]
  },
  {
   "cell_type": "code",
   "execution_count": null,
   "metadata": {},
   "outputs": [],
   "source": [
    "patience_time_series[\"Number of travellers  2020\"].plot(figsize=(15, 8))\n",
    "patience_time_series[\"Number of travellers  2020\"].rolling(window=5).mean().plot()"
   ]
  },
  {
   "cell_type": "markdown",
   "metadata": {},
   "source": [
    "# Time Series Analysis with Moving Average of 10"
   ]
  },
  {
   "cell_type": "code",
   "execution_count": null,
   "metadata": {},
   "outputs": [],
   "source": [
    "patience_time_series[\"Number of travellers  2020\"].plot(figsize=(15, 8))\n",
    "patience_time_series[\"Number of travellers  2020\"].rolling(window=10).mean().plot()"
   ]
  },
  {
   "cell_type": "markdown",
   "metadata": {},
   "source": [
    "# Time Series Analysis with Moving Average of 20"
   ]
  },
  {
   "cell_type": "code",
   "execution_count": null,
   "metadata": {},
   "outputs": [],
   "source": [
    "patience_time_series[\"Number of travellers  2020\"].plot(figsize=(15, 8))\n",
    "patience_time_series[\"Number of travellers  2020\"].rolling(window=20).mean().plot()"
   ]
  },
  {
   "cell_type": "markdown",
   "metadata": {},
   "source": [
    "# Time Series Analysis with Moving Average of 30"
   ]
  },
  {
   "cell_type": "code",
   "execution_count": null,
   "metadata": {},
   "outputs": [],
   "source": [
    "patience_time_series[\"Number of travellers  2020\"].plot(figsize=(15, 10))\n",
    "patience_time_series[\"Number of travellers  2020\"].rolling(window=30).mean().plot()"
   ]
  },
  {
   "cell_type": "markdown",
   "metadata": {},
   "source": [
    "# Time Series Analysis with Moving Standard Deviation of 5"
   ]
  },
  {
   "cell_type": "code",
   "execution_count": null,
   "metadata": {
    "scrolled": false
   },
   "outputs": [],
   "source": [
    "patience_time_series[\"Number of travellers  2020\"].plot(figsize=(15, 8))\n",
    "patience_time_series[\"Number of travellers  2020\"].rolling(window=5).std().plot()"
   ]
  },
  {
   "cell_type": "code",
   "execution_count": null,
   "metadata": {},
   "outputs": [],
   "source": [
    "patience_time_series[\"Moving_Average_5\"] = patience_time_series[\"Number of travellers  2020\"].rolling(window=5).mean()\n",
    "patience_time_series[\"Moving_Average_10\"] = patience_time_series[\"Number of travellers  2020\"].rolling(window=10).mean()\n",
    "patience_time_series[\"Moving_Average_20\"] = patience_time_series[\"Number of travellers  2020\"].rolling(window=20).mean()\n",
    "patience_time_series[\"Moving_Average_30\"] = patience_time_series[\"Number of travellers  2020\"].rolling(window=30).mean()\n",
    "patience_time_series[\"Moving_Standard_Deviation_20\"] = patience_time_series[\"Number of travellers  2020\"].rolling(window=5).std()"
   ]
  },
  {
   "cell_type": "code",
   "execution_count": null,
   "metadata": {},
   "outputs": [],
   "source": [
    "# Export the Time Series data as a new Excel File\n",
    "\n",
    "patience_time_series.to_excel(excel_writer=\"Time Series (Patience).xlsx\", sheet_name=\"sheet 1\", index=True)"
   ]
  },
  {
   "cell_type": "code",
   "execution_count": null,
   "metadata": {},
   "outputs": [],
   "source": []
  },
  {
   "cell_type": "code",
   "execution_count": null,
   "metadata": {},
   "outputs": [],
   "source": []
  },
  {
   "cell_type": "code",
   "execution_count": null,
   "metadata": {},
   "outputs": [],
   "source": []
  },
  {
   "cell_type": "code",
   "execution_count": null,
   "metadata": {},
   "outputs": [],
   "source": []
  },
  {
   "cell_type": "code",
   "execution_count": null,
   "metadata": {},
   "outputs": [],
   "source": []
  },
  {
   "cell_type": "code",
   "execution_count": null,
   "metadata": {},
   "outputs": [],
   "source": []
  },
  {
   "cell_type": "code",
   "execution_count": null,
   "metadata": {},
   "outputs": [],
   "source": []
  },
  {
   "cell_type": "code",
   "execution_count": null,
   "metadata": {},
   "outputs": [],
   "source": []
  },
  {
   "cell_type": "code",
   "execution_count": null,
   "metadata": {},
   "outputs": [],
   "source": []
  },
  {
   "cell_type": "code",
   "execution_count": null,
   "metadata": {},
   "outputs": [],
   "source": []
  },
  {
   "cell_type": "code",
   "execution_count": null,
   "metadata": {},
   "outputs": [],
   "source": []
  },
  {
   "cell_type": "code",
   "execution_count": null,
   "metadata": {},
   "outputs": [],
   "source": []
  },
  {
   "cell_type": "code",
   "execution_count": null,
   "metadata": {},
   "outputs": [],
   "source": []
  },
  {
   "cell_type": "code",
   "execution_count": null,
   "metadata": {},
   "outputs": [],
   "source": []
  },
  {
   "cell_type": "code",
   "execution_count": null,
   "metadata": {},
   "outputs": [],
   "source": []
  },
  {
   "cell_type": "code",
   "execution_count": null,
   "metadata": {},
   "outputs": [],
   "source": []
  },
  {
   "cell_type": "code",
   "execution_count": null,
   "metadata": {},
   "outputs": [],
   "source": []
  },
  {
   "cell_type": "code",
   "execution_count": null,
   "metadata": {},
   "outputs": [],
   "source": []
  },
  {
   "cell_type": "code",
   "execution_count": null,
   "metadata": {},
   "outputs": [],
   "source": []
  },
  {
   "cell_type": "code",
   "execution_count": null,
   "metadata": {},
   "outputs": [],
   "source": []
  },
  {
   "cell_type": "code",
   "execution_count": null,
   "metadata": {},
   "outputs": [],
   "source": []
  },
  {
   "cell_type": "code",
   "execution_count": null,
   "metadata": {},
   "outputs": [],
   "source": []
  },
  {
   "cell_type": "code",
   "execution_count": null,
   "metadata": {},
   "outputs": [],
   "source": [
    "\n"
   ]
  }
 ],
 "metadata": {
  "kernelspec": {
   "display_name": "Python 3",
   "language": "python",
   "name": "python3"
  },
  "language_info": {
   "codemirror_mode": {
    "name": "ipython",
    "version": 3
   },
   "file_extension": ".py",
   "mimetype": "text/x-python",
   "name": "python",
   "nbconvert_exporter": "python",
   "pygments_lexer": "ipython3",
   "version": "3.8.5"
  }
 },
 "nbformat": 4,
 "nbformat_minor": 4
}
